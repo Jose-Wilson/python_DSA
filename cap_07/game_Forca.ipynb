{
 "cells": [
  {
   "cell_type": "markdown",
   "id": "a63cd2bb",
   "metadata": {},
   "source": [
    "# Projeto 1 - Desenvolvimento de Game \n"
   ]
  },
  {
   "cell_type": "code",
   "execution_count": null,
   "id": "29b4bcaa",
   "metadata": {},
   "outputs": [],
   "source": [
    "import random\n",
    "from os import system, name"
   ]
  },
  {
   "cell_type": "code",
   "execution_count": null,
   "id": "b2b85c1b",
   "metadata": {},
   "outputs": [],
   "source": [
    "# Função para limpar a tela a cada execução\n",
    "def limpa_tela():\n",
    "    # windows\n",
    "    if name == 'nt':\n",
    "        _ = system('cls')\n",
    "    # Mac ou Linux\n",
    "    else:\n",
    "        _ = system('clear')\n",
    "        "
   ]
  },
  {
   "cell_type": "code",
   "execution_count": null,
   "id": "e9286af0",
   "metadata": {},
   "outputs": [],
   "source": [
    "def game():\n",
    "    limpa_tela()\n",
    "    print('\\nBem-vindo(a) ao jogo da forcar!')\n",
    "    print('Adivinhe a palavra abaixo:\\n')\n",
    "    \n",
    "    # Lista de palavras\n",
    "    palavras = ['acacate', 'segunda', 'sábado', 'queijo', 'requiejão']\n",
    "    \n",
    "    # Escolha randomicamente de uma palavra\n",
    "    palavra = random.choice(palavras)\n",
    "    \n",
    "    # Lista comprehension\n",
    "    letras_descobertas = ['_' for letra in palavra]\n",
    "    \n",
    "    # Número de chances\n",
    "    chances = 5\n",
    "    \n",
    "    # Lista para as letras erradas\n",
    "    letras_erradas = []"
   ]
  },
  {
   "cell_type": "code",
   "execution_count": null,
   "id": "d0df005e",
   "metadata": {},
   "outputs": [],
   "source": []
  }
 ],
 "metadata": {
  "kernelspec": {
   "display_name": "Python 3 (ipykernel)",
   "language": "python",
   "name": "python3"
  },
  "language_info": {
   "codemirror_mode": {
    "name": "ipython",
    "version": 3
   },
   "file_extension": ".py",
   "mimetype": "text/x-python",
   "name": "python",
   "nbconvert_exporter": "python",
   "pygments_lexer": "ipython3",
   "version": "3.9.13"
  }
 },
 "nbformat": 4,
 "nbformat_minor": 5
}
