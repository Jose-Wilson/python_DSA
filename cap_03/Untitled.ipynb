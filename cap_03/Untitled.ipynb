{
 "cells": [
  {
   "cell_type": "code",
   "execution_count": 1,
   "id": "1e5ba3bb",
   "metadata": {},
   "outputs": [
    {
     "name": "stdout",
     "output_type": "stream",
     "text": [
      "Versão da linguagem Python Usada neste computador: 3.9.13\n"
     ]
    }
   ],
   "source": [
    "# Versão da linguagem Python\n",
    "from platform import python_version\n",
    "print('Versão da linguagem Python Usada neste computador:', python_version())\n"
   ]
  },
  {
   "cell_type": "markdown",
   "id": "2e9c485e",
   "metadata": {},
   "source": [
    "# Calcule a área de um Paralelograma"
   ]
  },
  {
   "cell_type": "code",
   "execution_count": 2,
   "id": "127b7425",
   "metadata": {},
   "outputs": [
    {
     "name": "stdout",
     "output_type": "stream",
     "text": [
      "Bem vindo! Vamos calcular a área de um Paralelograma?\n"
     ]
    }
   ],
   "source": [
    "print('Bem vindo! Vamos calcular a área de um Paralelograma?')"
   ]
  },
  {
   "cell_type": "code",
   "execution_count": 3,
   "id": "c1232035",
   "metadata": {},
   "outputs": [
    {
     "name": "stdout",
     "output_type": "stream",
     "text": [
      "Insira o comprimento da base: 10\n"
     ]
    }
   ],
   "source": [
    "base = float(input('Insira o comprimento da base: '))"
   ]
  },
  {
   "cell_type": "code",
   "execution_count": 4,
   "id": "25025e6f",
   "metadata": {},
   "outputs": [
    {
     "name": "stdout",
     "output_type": "stream",
     "text": [
      "Insira a altura: 3\n"
     ]
    }
   ],
   "source": [
    "altura = float(input('Insira a altura: '))"
   ]
  },
  {
   "cell_type": "code",
   "execution_count": 5,
   "id": "55329a77",
   "metadata": {},
   "outputs": [],
   "source": [
    "area = base * altura"
   ]
  },
  {
   "cell_type": "code",
   "execution_count": 6,
   "id": "e89eb18e",
   "metadata": {},
   "outputs": [
    {
     "name": "stdout",
     "output_type": "stream",
     "text": [
      "A área do paralelograme é:  30.0\n"
     ]
    }
   ],
   "source": [
    "print('A área do paralelograme é: ', area)"
   ]
  },
  {
   "cell_type": "markdown",
   "id": "b0c7fc22",
   "metadata": {},
   "source": [
    "# Calculadora Simples"
   ]
  },
  {
   "cell_type": "code",
   "execution_count": 7,
   "id": "e221145a",
   "metadata": {},
   "outputs": [
    {
     "name": "stdout",
     "output_type": "stream",
     "text": [
      "Seja Bem vindo a Calculadora!\n"
     ]
    }
   ],
   "source": [
    "print('Seja Bem vindo a Calculadora!')"
   ]
  },
  {
   "cell_type": "code",
   "execution_count": 8,
   "id": "81278abf",
   "metadata": {},
   "outputs": [
    {
     "name": "stdout",
     "output_type": "stream",
     "text": [
      "Insira o primeiro número: 10\n"
     ]
    }
   ],
   "source": [
    "n1 = float(input('Insira o primeiro número: '))"
   ]
  },
  {
   "cell_type": "code",
   "execution_count": 9,
   "id": "fc6144e1",
   "metadata": {},
   "outputs": [
    {
     "name": "stdout",
     "output_type": "stream",
     "text": [
      "Insira o segiundo número: 5\n"
     ]
    }
   ],
   "source": [
    "n2 = float(input('Insira o segiundo número: '))"
   ]
  },
  {
   "cell_type": "code",
   "execution_count": null,
   "id": "b09f7699",
   "metadata": {},
   "outputs": [],
   "source": [
    "opc = input(\"Selecione uma Opreção [+, -, *, /]: \")"
   ]
  },
  {
   "cell_type": "code",
   "execution_count": null,
   "id": "9e1b69ae",
   "metadata": {},
   "outputs": [],
   "source": [
    "if opc == \"+\":\n",
    "    res = n1 + n2\n",
    "    print(\"O resultado é: \", res)\n",
    "    \n",
    "elif opc == \"-\":\n",
    "    res = n1 - n2\n",
    "    print(\"O resultado é: \", res)\n",
    "    \n",
    "elif opc == \"*\":\n",
    "    res = n1 * n2\n",
    "    print(\"O resultado é: \", res)\n",
    "    \n",
    "elif opc == \"/\":\n",
    "    res = n1 / n2\n",
    "    print(\"O resultado é: \" res)\n",
    "\n",
    "else:\n",
    "    print('Opreção Inválida! Tente Novamente!')"
   ]
  },
  {
   "cell_type": "markdown",
   "id": "c617dc90",
   "metadata": {},
   "source": [
    "# Colocando as lista em uma única e em ordem"
   ]
  },
  {
   "cell_type": "code",
   "execution_count": 16,
   "id": "04a4216a",
   "metadata": {},
   "outputs": [],
   "source": [
    "lista = [6, 7, 8, 3, 10, 19, 4, 1, 0, 61, 30 ,16, 17, 82, 29, 34, 43, 21, 11, 39, 56, 67, 12]"
   ]
  },
  {
   "cell_type": "code",
   "execution_count": 20,
   "id": "794a8f9f",
   "metadata": {},
   "outputs": [],
   "source": [
    "def ordem(arr):\n",
    "    n = len(arr)\n",
    "    for i in range(n):\n",
    "        for j in range(0, n-i-1):\n",
    "            if arr[j] > arr[j+1]:\n",
    "                arr[j], arr[j+1] = arr[j+1], arr[j]\n",
    "    return arr"
   ]
  },
  {
   "cell_type": "code",
   "execution_count": 21,
   "id": "b193e9e7",
   "metadata": {},
   "outputs": [
    {
     "name": "stdout",
     "output_type": "stream",
     "text": [
      "[0, 1, 3, 4, 6, 7, 8, 10, 11, 12, 16, 17, 19, 21, 29, 30, 34, 39, 43, 56, 61, 67, 82]\n"
     ]
    }
   ],
   "source": [
    "print(ordem(lista))"
   ]
  },
  {
   "cell_type": "code",
   "execution_count": null,
   "id": "2132b1f8",
   "metadata": {},
   "outputs": [],
   "source": []
  }
 ],
 "metadata": {
  "kernelspec": {
   "display_name": "Python 3 (ipykernel)",
   "language": "python",
   "name": "python3"
  },
  "language_info": {
   "codemirror_mode": {
    "name": "ipython",
    "version": 3
   },
   "file_extension": ".py",
   "mimetype": "text/x-python",
   "name": "python",
   "nbconvert_exporter": "python",
   "pygments_lexer": "ipython3",
   "version": "3.9.13"
  }
 },
 "nbformat": 4,
 "nbformat_minor": 5
}
