{
 "cells": [
  {
   "cell_type": "code",
   "execution_count": null,
   "id": "1e5ba3bb",
   "metadata": {},
   "outputs": [],
   "source": [
    "# Versão da linguagem Python\n",
    "from platform import python_version\n",
    "print('Versão da linguagem Python Usada neste computador:', python_version())\n"
   ]
  },
  {
   "cell_type": "markdown",
   "id": "2e9c485e",
   "metadata": {},
   "source": [
    "# Calcule a área de um Paralelograma"
   ]
  },
  {
   "cell_type": "code",
   "execution_count": null,
   "id": "127b7425",
   "metadata": {},
   "outputs": [],
   "source": [
    "print('Bem vindo! Vamos calcular a área de um Paralelograma?')"
   ]
  },
  {
   "cell_type": "code",
   "execution_count": null,
   "id": "c1232035",
   "metadata": {},
   "outputs": [],
   "source": [
    "base = float(input('Insira o comprimento da base: '))"
   ]
  },
  {
   "cell_type": "code",
   "execution_count": null,
   "id": "25025e6f",
   "metadata": {},
   "outputs": [],
   "source": [
    "altura = float(input('Insira a altura: '))"
   ]
  },
  {
   "cell_type": "code",
   "execution_count": null,
   "id": "55329a77",
   "metadata": {},
   "outputs": [],
   "source": [
    "area = base * altura"
   ]
  },
  {
   "cell_type": "code",
   "execution_count": null,
   "id": "e89eb18e",
   "metadata": {},
   "outputs": [],
   "source": [
    "print('A área do paralelograme é: ', area)"
   ]
  },
  {
   "cell_type": "markdown",
   "id": "b0c7fc22",
   "metadata": {},
   "source": [
    "# Calculadora Simples"
   ]
  },
  {
   "cell_type": "code",
   "execution_count": 1,
   "id": "e221145a",
   "metadata": {},
   "outputs": [
    {
     "name": "stdout",
     "output_type": "stream",
     "text": [
      "Seja Bem vindo a Calculadora!\n"
     ]
    }
   ],
   "source": [
    "print('Seja Bem vindo a Calculadora!')"
   ]
  },
  {
   "cell_type": "code",
   "execution_count": 2,
   "id": "81278abf",
   "metadata": {},
   "outputs": [
    {
     "name": "stdout",
     "output_type": "stream",
     "text": [
      "Insira o primeiro número: 10\n"
     ]
    }
   ],
   "source": [
    "n1 = float(input('Insira o primeiro número: '))"
   ]
  },
  {
   "cell_type": "code",
   "execution_count": 3,
   "id": "fc6144e1",
   "metadata": {},
   "outputs": [
    {
     "name": "stdout",
     "output_type": "stream",
     "text": [
      "Insira o segiundo número: 2\n"
     ]
    }
   ],
   "source": [
    "n2 = float(input('Insira o segiundo número: '))"
   ]
  },
  {
   "cell_type": "code",
   "execution_count": 4,
   "id": "b09f7699",
   "metadata": {},
   "outputs": [
    {
     "name": "stdout",
     "output_type": "stream",
     "text": [
      "Selecione uma Opreção [+, -, *, /]: /\n"
     ]
    }
   ],
   "source": [
    "opc = input(\"Selecione uma Opreção [+, -, *, /]: \")"
   ]
  },
  {
   "cell_type": "code",
   "execution_count": 5,
   "id": "9e1b69ae",
   "metadata": {},
   "outputs": [
    {
     "ename": "SyntaxError",
     "evalue": "invalid syntax (157498473.py, line 15)",
     "output_type": "error",
     "traceback": [
      "\u001b[1;36m  File \u001b[1;32m\"C:\\Users\\Jose\\AppData\\Local\\Temp\\ipykernel_3372\\157498473.py\"\u001b[1;36m, line \u001b[1;32m15\u001b[0m\n\u001b[1;33m    print(\"O resultado é: \" res)\u001b[0m\n\u001b[1;37m                            ^\u001b[0m\n\u001b[1;31mSyntaxError\u001b[0m\u001b[1;31m:\u001b[0m invalid syntax\n"
     ]
    }
   ],
   "source": [
    "if opc == \"+\":\n",
    "    res = n1 + n2\n",
    "    print(\"O resultado é: \", res)\n",
    "    \n",
    "elif opc == \"-\":\n",
    "    res = n1 - n2\n",
    "    print(\"O resultado é: \", res)\n",
    "    \n",
    "elif opc == \"*\":\n",
    "    res = n1 * n2\n",
    "    print(\"O resultado é: \", res)\n",
    "    \n",
    "elif opc == \"/\":\n",
    "    res = n1 / n2\n",
    "    print(\"O resultado é: \" res)\n",
    "\n",
    "else:\n",
    "    print('Opreção Inválida! Tente Novamente!')"
   ]
  },
  {
   "cell_type": "code",
   "execution_count": null,
   "id": "a524df5a",
   "metadata": {},
   "outputs": [],
   "source": []
  }
 ],
 "metadata": {
  "kernelspec": {
   "display_name": "Python 3 (ipykernel)",
   "language": "python",
   "name": "python3"
  },
  "language_info": {
   "codemirror_mode": {
    "name": "ipython",
    "version": 3
   },
   "file_extension": ".py",
   "mimetype": "text/x-python",
   "name": "python",
   "nbconvert_exporter": "python",
   "pygments_lexer": "ipython3",
   "version": "3.9.13"
  }
 },
 "nbformat": 4,
 "nbformat_minor": 5
}
